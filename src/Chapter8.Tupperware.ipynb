{
 "cells": [
  {
   "cell_type": "code",
   "execution_count": 36,
   "metadata": {},
   "outputs": [],
   "source": [
    "import toolz as tz\n",
    "import operator as op\n"
   ]
  },
  {
   "cell_type": "code",
   "execution_count": 3,
   "metadata": {},
   "outputs": [],
   "source": [
    "class Container:\n",
    "    def __init__(self, x):\n",
    "        self.__value__ = x\n",
    "\n",
    "    @classmethod\n",
    "    def of(cls, x):\n",
    "        return cls(x)\n",
    "\n",
    "    def map(self, f):\n",
    "        return Container.of(f(self.__value__))\n",
    "\n",
    "    def __repr__(self):\n",
    "        return str(self.__value__)\n",
    "\n",
    "\n",
    "class Maybe:\n",
    "    def __init__(self, x):\n",
    "        self.__value__ = x\n",
    "        self.isNothing = self.__value__ is None\n",
    "\n",
    "    @classmethod\n",
    "    def of(cls, x):\n",
    "        return cls(x)\n",
    "\n",
    "    def map(self, f):\n",
    "        return self if self.isNothing else Maybe.of(f(self.__value__))\n",
    "\n",
    "    def __repr__(self):\n",
    "        return \"Nothing\" if self.isNothing else f\"Just({self.__value__})\"\n",
    "\n",
    "\n",
    "@tz.curry\n",
    "def prop(name, obj):\n",
    "    return obj[name]\n",
    "\n",
    "\n",
    "@tz.curry\n",
    "def map_(f, functor):\n",
    "    return functor.map(f)\n",
    "\n",
    "\n",
    "@tz.curry\n",
    "def maybe(v, f, m):\n",
    "    return v if m.isNothing else f(m.__value__)\n"
   ]
  },
  {
   "cell_type": "code",
   "execution_count": 4,
   "metadata": {},
   "outputs": [
    {
     "data": {
      "text/plain": [
       "5"
      ]
     },
     "execution_count": 4,
     "metadata": {},
     "output_type": "execute_result"
    }
   ],
   "source": [
    "Container.of(3).map(lambda two: two + 2)\n"
   ]
  },
  {
   "cell_type": "code",
   "execution_count": 5,
   "metadata": {},
   "outputs": [
    {
     "data": {
      "text/plain": [
       "(Just(3), Just(0))"
      ]
     },
     "execution_count": 5,
     "metadata": {},
     "output_type": "execute_result"
    }
   ],
   "source": [
    "Maybe.of(\"abc\").map(len), Maybe.of(\"\").map(len)\n"
   ]
  },
  {
   "cell_type": "code",
   "execution_count": 6,
   "metadata": {},
   "outputs": [
    {
     "data": {
      "text/plain": [
       "3"
      ]
     },
     "execution_count": 6,
     "metadata": {},
     "output_type": "execute_result"
    }
   ],
   "source": [
    "map_(len, Container.of(\"abc\"))\n"
   ]
  },
  {
   "cell_type": "code",
   "execution_count": 7,
   "metadata": {},
   "outputs": [
    {
     "data": {
      "text/plain": [
       "(\"Your balance is ${'balance': 80}\", \"You're broke!\")"
      ]
     },
     "execution_count": 7,
     "metadata": {},
     "output_type": "execute_result"
    }
   ],
   "source": [
    "@tz.curry\n",
    "def withdraw(amount, balance):\n",
    "    return Maybe.of({\"balance\": balance - amount} if balance >= amount else None)\n",
    "\n",
    "\n",
    "def updateLedger(account):\n",
    "    return account\n",
    "\n",
    "\n",
    "def remainingBalance(balance):\n",
    "    return f\"Your balance is ${balance}\"\n",
    "\n",
    "\n",
    "finishTransaction = tz.compose(remainingBalance, updateLedger)\n",
    "\n",
    "getTwenty = tz.compose(\n",
    "    maybe(f\"You're broke!\", finishTransaction), withdraw(20), prop(\"balance\")\n",
    ")\n",
    "\n",
    "getTwenty({\"balance\": 100}), getTwenty({\"balance\": 10})\n"
   ]
  },
  {
   "cell_type": "code",
   "execution_count": 34,
   "metadata": {},
   "outputs": [],
   "source": [
    "class Either:\n",
    "    def __init__(self, x):\n",
    "        self.__value__ = x\n",
    "\n",
    "    @classmethod\n",
    "    def of(cls, x):\n",
    "        return Right(x)\n",
    "\n",
    "\n",
    "class Right(Either):\n",
    "    def map(self, f):\n",
    "        return Either.of(f(self.__value__))\n",
    "\n",
    "    def __repr__(self):\n",
    "        return f\"Right({self.__value__})\"\n",
    "\n",
    "\n",
    "class Left(Either):\n",
    "    def map(self, _):\n",
    "        return self\n",
    "\n",
    "    def __repr__(self):\n",
    "        return f\"Left({self.__value__})\"\n",
    "\n",
    "\n",
    "left = lambda x: Left(x)\n",
    "\n",
    "\n",
    "@tz.curry\n",
    "def either(f, g, e):\n",
    "    if isinstance(e, Left):\n",
    "        return f(e.__value__)\n",
    "    elif isinstance(e, Right):\n",
    "        return g(e.__value__)\n",
    "\n",
    "    return None\n"
   ]
  },
  {
   "cell_type": "code",
   "execution_count": 15,
   "metadata": {},
   "outputs": [
    {
     "data": {
      "text/plain": [
       "(Right(brain), Left(rain), Right(localhost), Left(rolls eyes...))"
      ]
     },
     "execution_count": 15,
     "metadata": {},
     "output_type": "execute_result"
    }
   ],
   "source": [
    "(\n",
    "    Either.of(\"rain\").map(lambda str: f\"b{str}\"),\n",
    "    left(\"rain\").map(lambda str: f\"It's gonna {str}, better bring your umbrella!\"),\n",
    "    Either.of({\"host\": \"localhost\", \"port\": 80}).map(prop(\"host\")),\n",
    "    left(\"rolls eyes...\").map(prop(\"host\")),\n",
    ")\n"
   ]
  },
  {
   "cell_type": "code",
   "execution_count": 43,
   "metadata": {},
   "outputs": [
    {
     "data": {
      "text/plain": [
       "(Right(1), Left(Birth date could not be parsed))"
      ]
     },
     "execution_count": 43,
     "metadata": {},
     "output_type": "execute_result"
    }
   ],
   "source": [
    "from dateutil.parser import parse\n",
    "from dateutil.relativedelta import relativedelta\n",
    "from datetime import datetime\n",
    "\n",
    "@tz.curry\n",
    "def getAge(now, user):\n",
    "    try:\n",
    "        birthDate = parse(user[\"birthDate\"])\n",
    "\n",
    "        time_diff = relativedelta(now, birthDate)\n",
    "\n",
    "        return Either.of(time_diff.years)\n",
    "    except:\n",
    "        return Left(f\"Birth date could not be parsed\")\n",
    "\n",
    "\n",
    "(\n",
    "    getAge(datetime.now(), {\"birthDate\": \"2020-12-12\"}),\n",
    "    getAge(datetime.now(), {\"birthDate\": \"2005-13-12\"}),\n",
    ")\n"
   ]
  },
  {
   "cell_type": "code",
   "execution_count": 44,
   "metadata": {},
   "outputs": [
    {
     "name": "stdout",
     "output_type": "stream",
     "text": [
      "If you survive, you will be 11\n"
     ]
    },
    {
     "data": {
      "text/plain": [
       "(Right(None), Left(Birth date could not be parsed))"
      ]
     },
     "execution_count": 44,
     "metadata": {},
     "output_type": "execute_result"
    }
   ],
   "source": [
    "concat = tz.curry(op.add)\n",
    "add = concat\n",
    "\n",
    "fortune = tz.compose(\n",
    "    concat('If you survive, you will be '),\n",
    "    str,\n",
    "    add(1)\n",
    ")\n",
    "\n",
    "zol = tz.compose(\n",
    "    map_(print),\n",
    "    map_(fortune),\n",
    "    getAge(datetime.now())\n",
    ")\n",
    "\n",
    "zol({\"birthDate\": '2012-5-25'}), zol({\"birthDate\": '2012-15-25'})"
   ]
  },
  {
   "cell_type": "code",
   "execution_count": 33,
   "metadata": {},
   "outputs": [
    {
     "data": {
      "text/plain": [
       "(True, True, False)"
      ]
     },
     "execution_count": 33,
     "metadata": {},
     "output_type": "execute_result"
    }
   ],
   "source": [
    "z = tz.compose(\n",
    "    print,\n",
    "    either()\n",
    ")"
   ]
  }
 ],
 "metadata": {
  "kernelspec": {
   "display_name": "Python 3.8.5 ('base')",
   "language": "python",
   "name": "python3"
  },
  "language_info": {
   "codemirror_mode": {
    "name": "ipython",
    "version": 3
   },
   "file_extension": ".py",
   "mimetype": "text/x-python",
   "name": "python",
   "nbconvert_exporter": "python",
   "pygments_lexer": "ipython3",
   "version": "3.8.5"
  },
  "orig_nbformat": 4,
  "vscode": {
   "interpreter": {
    "hash": "c47b3fd94286b9788ca24a5dc76812a7f3d81a041a874dbfccf1db12dc8e64b6"
   }
  }
 },
 "nbformat": 4,
 "nbformat_minor": 2
}
