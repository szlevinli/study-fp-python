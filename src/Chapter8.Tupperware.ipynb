{
 "cells": [
  {
   "cell_type": "code",
   "execution_count": 2,
   "metadata": {},
   "outputs": [],
   "source": [
    "import toolz as tz\n"
   ]
  },
  {
   "cell_type": "code",
   "execution_count": 3,
   "metadata": {},
   "outputs": [],
   "source": [
    "class Container:\n",
    "    def __init__(self, x):\n",
    "        self.__value__ = x\n",
    "\n",
    "    @classmethod\n",
    "    def of(cls, x):\n",
    "        return cls(x)\n",
    "\n",
    "    def map(self, f):\n",
    "        return Container.of(f(self.__value__))\n",
    "\n",
    "    def __repr__(self):\n",
    "        return str(self.__value__)\n",
    "\n",
    "\n",
    "class Maybe:\n",
    "    def __init__(self, x):\n",
    "        self.__value__ = x\n",
    "        self.isNothing = self.__value__ is None\n",
    "\n",
    "    @classmethod\n",
    "    def of(cls, x):\n",
    "        return cls(x)\n",
    "\n",
    "    def map(self, f):\n",
    "        return self if self.isNothing else Maybe.of(f(self.__value__))\n",
    "\n",
    "    def __repr__(self):\n",
    "        return \"Nothing\" if self.isNothing else f\"Just({self.__value__})\"\n",
    "\n",
    "\n",
    "@tz.curry\n",
    "def prop(name, obj):\n",
    "    return obj[name]\n",
    "\n",
    "\n",
    "@tz.curry\n",
    "def map_(f, functor):\n",
    "    return functor.map(f)\n",
    "\n",
    "@tz.curry\n",
    "def maybe(v, f, m):\n",
    "    return v if m.isNothing else f(m.__value__)"
   ]
  },
  {
   "cell_type": "code",
   "execution_count": 4,
   "metadata": {},
   "outputs": [
    {
     "data": {
      "text/plain": [
       "5"
      ]
     },
     "execution_count": 4,
     "metadata": {},
     "output_type": "execute_result"
    }
   ],
   "source": [
    "Container.of(3).map(lambda two: two + 2)\n"
   ]
  },
  {
   "cell_type": "code",
   "execution_count": 5,
   "metadata": {},
   "outputs": [
    {
     "data": {
      "text/plain": [
       "(Just(3), Just(0))"
      ]
     },
     "execution_count": 5,
     "metadata": {},
     "output_type": "execute_result"
    }
   ],
   "source": [
    "Maybe.of('abc').map(len), Maybe.of('').map(len)"
   ]
  },
  {
   "cell_type": "code",
   "execution_count": 6,
   "metadata": {},
   "outputs": [
    {
     "data": {
      "text/plain": [
       "3"
      ]
     },
     "execution_count": 6,
     "metadata": {},
     "output_type": "execute_result"
    }
   ],
   "source": [
    "map_(len, Container.of('abc'))"
   ]
  },
  {
   "cell_type": "code",
   "execution_count": 7,
   "metadata": {},
   "outputs": [
    {
     "data": {
      "text/plain": [
       "(\"Your balance is ${'balance': 80}\", \"You're broke!\")"
      ]
     },
     "execution_count": 7,
     "metadata": {},
     "output_type": "execute_result"
    }
   ],
   "source": [
    "@tz.curry\n",
    "def withdraw(amount, balance):\n",
    "    return Maybe.of({\"balance\": balance - amount} if balance >= amount else None)\n",
    "\n",
    "def updateLedger(account):\n",
    "    return account\n",
    "\n",
    "def remainingBalance(balance):\n",
    "    return f'Your balance is ${balance}'\n",
    "\n",
    "finishTransaction = tz.compose(\n",
    "    remainingBalance,\n",
    "    updateLedger\n",
    ")\n",
    "\n",
    "getTwenty = tz.compose(\n",
    "    maybe(f'You\\'re broke!', finishTransaction),\n",
    "    withdraw(20),\n",
    "    prop('balance')\n",
    ")\n",
    "\n",
    "getTwenty({\"balance\": 100}), getTwenty({\"balance\": 10})"
   ]
  }
 ],
 "metadata": {
  "kernelspec": {
   "display_name": "Python 3.8.5 ('base')",
   "language": "python",
   "name": "python3"
  },
  "language_info": {
   "codemirror_mode": {
    "name": "ipython",
    "version": 3
   },
   "file_extension": ".py",
   "mimetype": "text/x-python",
   "name": "python",
   "nbconvert_exporter": "python",
   "pygments_lexer": "ipython3",
   "version": "3.8.5"
  },
  "orig_nbformat": 4,
  "vscode": {
   "interpreter": {
    "hash": "c47b3fd94286b9788ca24a5dc76812a7f3d81a041a874dbfccf1db12dc8e64b6"
   }
  }
 },
 "nbformat": 4,
 "nbformat_minor": 2
}
